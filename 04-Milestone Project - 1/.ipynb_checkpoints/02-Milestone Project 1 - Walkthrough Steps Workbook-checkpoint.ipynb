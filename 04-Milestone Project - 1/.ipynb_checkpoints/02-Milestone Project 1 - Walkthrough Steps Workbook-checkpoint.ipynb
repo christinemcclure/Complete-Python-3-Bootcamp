{
 "cells": [
  {
   "cell_type": "markdown",
   "metadata": {},
   "source": [
    "___\n",
    "\n",
    "<a href='https://www.udemy.com/user/joseportilla/'><img src='../Pierian_Data_Logo.png'/></a>\n",
    "___\n",
    "<center><em>Content Copyright by Pierian Data</em></center>"
   ]
  },
  {
   "cell_type": "markdown",
   "metadata": {},
   "source": [
    "# Milestone Project 1: Walkthrough Steps Workbook\n",
    "\n",
    "Below is a set of steps for you to follow to try to create the Tic Tac Toe Milestone Project game!"
   ]
  },
  {
   "cell_type": "markdown",
   "metadata": {},
   "source": [
    "#### Some suggested tools before you get started:\n",
    "To take input from a user:\n",
    "\n",
    "    player1 = input(\"Please pick a marker 'X' or 'O'\")\n",
    "    \n",
    "Note that input() takes in a string. If you need an integer value, use\n",
    "\n",
    "    position = int(input('Please enter a number'))\n",
    "    \n",
    "<br>To clear the screen between moves:\n",
    "\n",
    "    from IPython.display import clear_output\n",
    "    clear_output()\n",
    "    \n",
    "Note that clear_output() will only work in jupyter. To clear the screen in other IDEs, consider:\n",
    "\n",
    "    print('\\n'*100)\n",
    "    \n",
    "This scrolls the previous board up out of view. Now on to the program!"
   ]
  },
  {
   "cell_type": "markdown",
   "metadata": {},
   "source": [
    "**Step 1: Write a function that can print out a board. Set up your board as a list, where each index 1-9 corresponds with a number on a number pad, so you get a 3 by 3 board representation.**"
   ]
  },
  {
   "cell_type": "code",
   "execution_count": 15,
   "metadata": {},
   "outputs": [
    {
     "name": "stdout",
     "output_type": "stream",
     "text": [
      "-------------\n",
      "|   |   |   |\n",
      "| X | O | X | \n",
      "|   |   |   |\n",
      "-------------\n",
      "|   |   |   |\n",
      "| O | X | O | \n",
      "|   |   |   |\n",
      "-------------\n",
      "|   |   |   |\n",
      "| X | O | X | \n",
      "|   |   |   |\n",
      "-------------\n"
     ]
    }
   ],
   "source": [
    "\n",
    "def print_header():\n",
    "    print(\"-------------\")\n",
    "\n",
    "def print_row(item1,item2,item3):\n",
    "    print(\"|   |   |   |\")\n",
    "    print(\"| {} | {} | {} | \".format(item1,item2,item3))\n",
    "    print(\"|   |   |   |\")\n",
    "    print(\"-------------\")\n",
    "\n",
    "\n",
    "def display_board(board):\n",
    "    from IPython.display import clear_output\n",
    "    clear_output()\n",
    "    print_header()\n",
    "    print_row(board[1],board[2],board[3]) # I know there is a more elegant way to do this!\n",
    "    print_row(board[4],board[5],board[6])\n",
    "    print_row(board[7],board[8],board[9])\n",
    "    return\n",
    "\n",
    "test_board = ['#','X','O','X','O','X','O','X','O','X']\n",
    "#num_items=test_board\n",
    "print(\"num items {}\".format(len(test_board)))\n",
    "#test_board=['a','b',3,'g',999,'wer',19283,'sdf','asfd']\n",
    "\n",
    "#for item in test_board:\n",
    "#    print(\"item is {} and index is {}\".format(item,test_board.index(item)))\n",
    "\n",
    "display_board(test_board)"
   ]
  },
  {
   "cell_type": "code",
   "execution_count": null,
   "metadata": {},
   "outputs": [],
   "source": [
    "3%3 == 0\n",
    "test_board = ['#','X','O','X','O','X','O','X','O','X']\n"
   ]
  },
  {
   "cell_type": "code",
   "execution_count": 13,
   "metadata": {},
   "outputs": [
    {
     "ename": "IndexError",
     "evalue": "list assignment index out of range",
     "output_type": "error",
     "traceback": [
      "\u001b[1;31m---------------------------------------------------------------------------\u001b[0m",
      "\u001b[1;31mIndexError\u001b[0m                                Traceback (most recent call last)",
      "Input \u001b[1;32mIn [13]\u001b[0m, in \u001b[0;36m<cell line: 6>\u001b[1;34m()\u001b[0m\n\u001b[0;32m      8\u001b[0m         \u001b[38;5;28mprint\u001b[39m(\u001b[38;5;124m'\u001b[39m\u001b[38;5;124mNEW ROW: \u001b[39m\u001b[38;5;132;01m{}\u001b[39;00m\u001b[38;5;124m'\u001b[39m\u001b[38;5;241m.\u001b[39mformat(i))\n\u001b[0;32m      9\u001b[0m         row \u001b[38;5;241m+\u001b[39m\u001b[38;5;241m=\u001b[39m \u001b[38;5;241m1\u001b[39m\n\u001b[1;32m---> 11\u001b[0m     rows[row]\u001b[38;5;241m=\u001b[39m i\n\u001b[0;32m     13\u001b[0m rows\n",
      "\u001b[1;31mIndexError\u001b[0m: list assignment index out of range"
     ]
    }
   ],
   "source": [
    "\n",
    "\n",
    "\n",
    "test_board = ['#','X','O','X','O','X','O','X','O','X']\n",
    "rows=['#']\n",
    "\n",
    "str_len=(len(test_board))\n",
    "row = 1\n",
    "for i in range(1,str_len):\n",
    "    if i%3 == 0:\n",
    "        print('NEW ROW: {}'.format(i))\n",
    "        row += 1\n",
    "\n",
    "    rows[row]= i\n",
    "\n",
    "rows"
   ]
  },
  {
   "cell_type": "markdown",
   "metadata": {},
   "source": [
    "**TEST Step 1:** run your function on a test version of the board list, and make adjustments as necessary"
   ]
  },
  {
   "cell_type": "code",
   "execution_count": null,
   "metadata": {},
   "outputs": [],
   "source": [
    "test_board = ['#','X','O','X','O','X','O','X','O','X']\n",
    "board_locations = ['#','1','2','3','4','5','6','7','8','9']\n",
    "#display_board(test_board)\n",
    "display_board(board_locations)"
   ]
  },
  {
   "cell_type": "markdown",
   "metadata": {},
   "source": [
    "**Step 2: Write a function that can take in a player input and assign their marker as 'X' or 'O'. Think about using *while* loops to continually ask until you get a correct answer.**"
   ]
  },
  {
   "cell_type": "code",
   "execution_count": 17,
   "metadata": {},
   "outputs": [
    {
     "name": "stdout",
     "output_type": "stream",
     "text": [
      "X or O? Enter your choice: k\n",
      "I'm sorry. I don't understand. Please enter the letters 'x' or 'o'\n",
      "X or O? Enter your choice: x\n"
     ]
    },
    {
     "data": {
      "text/plain": [
       "'X'"
      ]
     },
     "execution_count": 17,
     "metadata": {},
     "output_type": "execute_result"
    }
   ],
   "source": [
    "# take input\n",
    "# Examine input\n",
    "# if X or O (convert to uppercase), return\n",
    "# otherwise, show error message\n",
    "def player_input():\n",
    "    player1=''\n",
    "    while player1 != 'X' or 'O':\n",
    "        player1=input('X or O? Enter your choice: ')\n",
    "        if player1.upper() == 'X' or player1.upper() == 'O':\n",
    "            return player1.upper()\n",
    "        else:\n",
    "            print('I\\'m sorry. I don\\'t understand. Please enter the letters \\'x\\' or \\'o\\'')\n",
    "            \n",
    "player_input()\n",
    "    "
   ]
  },
  {
   "cell_type": "code",
   "execution_count": 47,
   "metadata": {},
   "outputs": [
    {
     "name": "stdout",
     "output_type": "stream",
     "text": [
      "-------------\n",
      "|   |   |   |\n",
      "| 1 | 2 | 3 | \n",
      "|   |   |   |\n",
      "-------------\n",
      "|   |   |   |\n",
      "| 4 | 5 | 6 | \n",
      "|   |   |   |\n",
      "-------------\n",
      "|   |   |   |\n",
      "| 7 | 8 | 9 | \n",
      "|   |   |   |\n",
      "-------------\n",
      "Please enter the position number for your move: 7\n"
     ]
    },
    {
     "ename": "NameError",
     "evalue": "name 'isdigit' is not defined",
     "output_type": "error",
     "traceback": [
      "\u001b[1;31m---------------------------------------------------------------------------\u001b[0m",
      "\u001b[1;31mNameError\u001b[0m                                 Traceback (most recent call last)",
      "Input \u001b[1;32mIn [47]\u001b[0m, in \u001b[0;36m<cell line: 13>\u001b[1;34m()\u001b[0m\n\u001b[0;32m     10\u001b[0m         \u001b[38;5;28;01melse\u001b[39;00m:\n\u001b[0;32m     11\u001b[0m             \u001b[38;5;28mprint\u001b[39m(\u001b[38;5;124m'\u001b[39m\u001b[38;5;124mI\u001b[39m\u001b[38;5;130;01m\\'\u001b[39;00m\u001b[38;5;124mm sorry. I don\u001b[39m\u001b[38;5;130;01m\\'\u001b[39;00m\u001b[38;5;124mt understand. Please enter a number 1-9 to indicate your position\u001b[39m\u001b[38;5;124m'\u001b[39m)\n\u001b[1;32m---> 13\u001b[0m \u001b[43mplacement_input\u001b[49m\u001b[43m(\u001b[49m\u001b[43m)\u001b[49m\n",
      "Input \u001b[1;32mIn [47]\u001b[0m, in \u001b[0;36mplacement_input\u001b[1;34m()\u001b[0m\n\u001b[0;32m      6\u001b[0m display_board(board_locations)\n\u001b[0;32m      7\u001b[0m location\u001b[38;5;241m=\u001b[39m\u001b[38;5;28minput\u001b[39m(\u001b[38;5;124m'\u001b[39m\u001b[38;5;124mPlease enter the position number for your move: \u001b[39m\u001b[38;5;124m'\u001b[39m)\n\u001b[1;32m----> 8\u001b[0m \u001b[38;5;28;01mif\u001b[39;00m \u001b[43misdigit\u001b[49m(location) \u001b[38;5;241m==\u001b[39m \u001b[38;5;28;01mTrue\u001b[39;00m:\n\u001b[0;32m      9\u001b[0m     \u001b[38;5;28;01mreturn\u001b[39;00m \u001b[38;5;28mint\u001b[39m(location)\n\u001b[0;32m     10\u001b[0m \u001b[38;5;28;01melse\u001b[39;00m:\n",
      "\u001b[1;31mNameError\u001b[0m: name 'isdigit' is not defined"
     ]
    }
   ],
   "source": [
    "def placement_input():\n",
    "    board_locations = ['#','1','2','3','4','5','6','7','8','9']\n",
    "    location=-1\n",
    "    print('here')\n",
    "    while location not in range(1,10):\n",
    "        display_board(board_locations)\n",
    "        location=input('Please enter the position number for your move: ')\n",
    "        if isdigit(location) == True:\n",
    "            return int(location)\n",
    "        else:\n",
    "            print('I\\'m sorry. I don\\'t understand. Please enter a number 1-9 to indicate your position')\n",
    "            \n",
    "placement_input()"
   ]
  },
  {
   "cell_type": "markdown",
   "metadata": {},
   "source": [
    "**TEST Step 2:** run the function to make sure it returns the desired output"
   ]
  },
  {
   "cell_type": "code",
   "execution_count": null,
   "metadata": {},
   "outputs": [],
   "source": [
    "player_input()"
   ]
  },
  {
   "cell_type": "code",
   "execution_count": 16,
   "metadata": {},
   "outputs": [
    {
     "name": "stdout",
     "output_type": "stream",
     "text": [
      "-------------\n",
      "|   |   |   |\n",
      "| 1 | 2 | 3 | \n",
      "|   |   |   |\n",
      "-------------\n",
      "|   |   |   |\n",
      "| 4 | 5 | 6 | \n",
      "|   |   |   |\n",
      "-------------\n",
      "|   |   |   |\n",
      "| 7 | 8 | 9 | \n",
      "|   |   |   |\n",
      "-------------\n"
     ]
    }
   ],
   "source": [
    "\n",
    "display_board(board_locations)"
   ]
  },
  {
   "cell_type": "markdown",
   "metadata": {},
   "source": [
    "**Step 3: Write a function that takes in the board list object, a marker ('X' or 'O'), and a desired position (number 1-9) and assigns it to the board.**"
   ]
  },
  {
   "cell_type": "code",
   "execution_count": 40,
   "metadata": {},
   "outputs": [
    {
     "name": "stdout",
     "output_type": "stream",
     "text": [
      "-------------\n",
      "|   |   |   |\n",
      "| X | O | j | \n",
      "|   |   |   |\n",
      "-------------\n",
      "|   |   |   |\n",
      "| O | X | O | \n",
      "|   |   |   |\n",
      "-------------\n",
      "|   |   |   |\n",
      "| X | O | X | \n",
      "|   |   |   |\n",
      "-------------\n"
     ]
    }
   ],
   "source": [
    "def player_input():\n",
    "    player1=''\n",
    "    while player1 != 'X' or 'O':\n",
    "        player1=input('X or O? Enter your playing piece: ')\n",
    "        if player1.upper() == 'X' or player1.upper() == 'O':\n",
    "            return player1.upper()\n",
    "        else:\n",
    "            print('I\\'m sorry. I don\\'t understand. Please enter the letters \\'x\\' or \\'o\\'')\n",
    "\n",
    "def print_header():\n",
    "    print(\"-------------\")\n",
    "\n",
    "def print_row(item1,item2,item3):\n",
    "    print(\"|   |   |   |\")\n",
    "    print(\"| {} | {} | {} | \".format(item1,item2,item3))\n",
    "    print(\"|   |   |   |\")\n",
    "    print(\"-------------\")\n",
    "\n",
    "\n",
    "def display_board(board):\n",
    "    from IPython.display import clear_output\n",
    "    clear_output()\n",
    "    print_header()\n",
    "    print_row(board[1],board[2],board[3]) # I know there is a more elegant way to do this!\n",
    "    print_row(board[4],board[5],board[6])\n",
    "    print_row(board[7],board[8],board[9])\n",
    "    return\n",
    "\n",
    "board_locations = ['#','1','2','3','4','5','6','7','8','9']\n",
    "board = ['#','X','O','X','O','X','O','X','O','X']\n",
    "\n",
    "def place_marker(board, marker, position):\n",
    "    # requires board var to be public and checks to be done elsewhere\n",
    "    board[position]=marker\n",
    "    return \n",
    "\n",
    "board\n",
    "\n",
    "place_marker(board,'j',3)\n",
    "display_board(board)"
   ]
  },
  {
   "cell_type": "markdown",
   "metadata": {},
   "source": [
    "**TEST Step 3:** run the place marker function using test parameters and display the modified board"
   ]
  },
  {
   "cell_type": "code",
   "execution_count": null,
   "metadata": {},
   "outputs": [],
   "source": [
    "place_marker(test_board,'$',8)\n",
    "display_board(test_board)"
   ]
  },
  {
   "cell_type": "markdown",
   "metadata": {},
   "source": [
    "**Step 4: Write a function that takes in a board and a mark (X or O) and then checks to see if that mark has won. **"
   ]
  },
  {
   "cell_type": "code",
   "execution_count": null,
   "metadata": {},
   "outputs": [],
   "source": [
    "def win_check(board, mark):\n",
    "    \n",
    "    pass"
   ]
  },
  {
   "cell_type": "markdown",
   "metadata": {},
   "source": [
    "**TEST Step 4:** run the win_check function against our test_board - it should return True"
   ]
  },
  {
   "cell_type": "code",
   "execution_count": null,
   "metadata": {},
   "outputs": [],
   "source": [
    "win_check(test_board,'X')"
   ]
  },
  {
   "cell_type": "markdown",
   "metadata": {},
   "source": [
    "**Step 5: Write a function that uses the random module to randomly decide which player goes first. You may want to lookup random.randint() Return a string of which player went first.**"
   ]
  },
  {
   "cell_type": "code",
   "execution_count": null,
   "metadata": {},
   "outputs": [],
   "source": [
    "import random\n",
    "\n",
    "def choose_first():\n",
    "    pass"
   ]
  },
  {
   "cell_type": "markdown",
   "metadata": {},
   "source": [
    "**Step 6: Write a function that returns a boolean indicating whether a space on the board is freely available.**"
   ]
  },
  {
   "cell_type": "code",
   "execution_count": null,
   "metadata": {},
   "outputs": [],
   "source": [
    "def space_check(board, position):\n",
    "    \n",
    "    pass"
   ]
  },
  {
   "cell_type": "markdown",
   "metadata": {},
   "source": [
    "**Step 7: Write a function that checks if the board is full and returns a boolean value. True if full, False otherwise.**"
   ]
  },
  {
   "cell_type": "code",
   "execution_count": null,
   "metadata": {},
   "outputs": [],
   "source": [
    "def full_board_check(board):\n",
    "    \n",
    "    pass"
   ]
  },
  {
   "cell_type": "markdown",
   "metadata": {},
   "source": [
    "**Step 8: Write a function that asks for a player's next position (as a number 1-9) and then uses the function from step 6 to check if it's a free position. If it is, then return the position for later use.**"
   ]
  },
  {
   "cell_type": "code",
   "execution_count": null,
   "metadata": {},
   "outputs": [],
   "source": [
    "def player_choice(board):\n",
    "    \n",
    "    pass"
   ]
  },
  {
   "cell_type": "markdown",
   "metadata": {},
   "source": [
    "**Step 9: Write a function that asks the player if they want to play again and returns a boolean True if they do want to play again.**"
   ]
  },
  {
   "cell_type": "code",
   "execution_count": null,
   "metadata": {},
   "outputs": [],
   "source": [
    "def replay():\n",
    "    \n",
    "    pass"
   ]
  },
  {
   "cell_type": "markdown",
   "metadata": {
    "collapsed": true
   },
   "source": [
    "**Step 10: Here comes the hard part! Use while loops and the functions you've made to run the game!**"
   ]
  },
  {
   "cell_type": "code",
   "execution_count": null,
   "metadata": {},
   "outputs": [],
   "source": [
    "print('Welcome to Tic Tac Toe!')\n",
    "\n",
    "#while True:\n",
    "    # Set the game up here\n",
    "    #pass\n",
    "\n",
    "    #while game_on:\n",
    "        #Player 1 Turn\n",
    "        \n",
    "        \n",
    "        # Player2's turn.\n",
    "            \n",
    "            #pass\n",
    "\n",
    "    #if not replay():\n",
    "        #break"
   ]
  },
  {
   "cell_type": "markdown",
   "metadata": {
    "collapsed": true
   },
   "source": [
    "## Good Job!"
   ]
  }
 ],
 "metadata": {
  "kernelspec": {
   "display_name": "Python 3 (ipykernel)",
   "language": "python",
   "name": "python3"
  },
  "language_info": {
   "codemirror_mode": {
    "name": "ipython",
    "version": 3
   },
   "file_extension": ".py",
   "mimetype": "text/x-python",
   "name": "python",
   "nbconvert_exporter": "python",
   "pygments_lexer": "ipython3",
   "version": "3.9.12"
  }
 },
 "nbformat": 4,
 "nbformat_minor": 1
}
