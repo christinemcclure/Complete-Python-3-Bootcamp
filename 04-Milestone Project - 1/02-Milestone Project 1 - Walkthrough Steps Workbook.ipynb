{
 "cells": [
  {
   "cell_type": "markdown",
   "metadata": {},
   "source": [
    "___\n",
    "\n",
    "<a href='https://www.udemy.com/user/joseportilla/'><img src='../Pierian_Data_Logo.png'/></a>\n",
    "___\n",
    "<center><em>Content Copyright by Pierian Data</em></center>"
   ]
  },
  {
   "cell_type": "markdown",
   "metadata": {},
   "source": [
    "# Milestone Project 1: Walkthrough Steps Workbook\n",
    "\n",
    "Below is a set of steps for you to follow to try to create the Tic Tac Toe Milestone Project game!"
   ]
  },
  {
   "cell_type": "markdown",
   "metadata": {},
   "source": [
    "#### Some suggested tools before you get started:\n",
    "To take input from a user:\n",
    "\n",
    "    player1 = input(\"Please pick a marker 'X' or 'O'\")\n",
    "    \n",
    "Note that input() takes in a string. If you need an integer value, use\n",
    "\n",
    "    position = int(input('Please enter a number'))\n",
    "    \n",
    "<br>To clear the screen between moves:\n",
    "\n",
    "    from IPython.display import clear_output\n",
    "    clear_output()\n",
    "    \n",
    "Note that clear_output() will only work in jupyter. To clear the screen in other IDEs, consider:\n",
    "\n",
    "    print('\\n'*100)\n",
    "    \n",
    "This scrolls the previous board up out of view. Now on to the program!"
   ]
  },
  {
   "cell_type": "markdown",
   "metadata": {},
   "source": [
    "**Step 1: Write a function that can print out a board. Set up your board as a list, where each index 1-9 corresponds with a number on a number pad, so you get a 3 by 3 board representation.**"
   ]
  },
  {
   "cell_type": "code",
   "execution_count": 3,
   "metadata": {},
   "outputs": [
    {
     "name": "stdout",
     "output_type": "stream",
     "text": [
      "-------------\n",
      "|   |   |   |\n",
      "| X | O | X | \n",
      "|   |   |   |\n",
      "-------------\n",
      "|   |   |   |\n",
      "| O | X | O | \n",
      "|   |   |   |\n",
      "-------------\n",
      "|   |   |   |\n",
      "| X | O | X | \n",
      "|   |   |   |\n",
      "-------------\n"
     ]
    }
   ],
   "source": [
    "\n",
    "def print_header():\n",
    "    print(\"-------------\")\n",
    "\n",
    "def print_row(item1,item2,item3):\n",
    "    print(\"|   |   |   |\")\n",
    "    print(\"| {} | {} | {} | \".format(item1,item2,item3))\n",
    "    print(\"|   |   |   |\")\n",
    "    print(\"-------------\")\n",
    "\n",
    "\n",
    "def display_board(board):\n",
    "    from IPython.display import clear_output\n",
    "    clear_output()\n",
    "    print_header()\n",
    "    print_row(board[1],board[2],board[3]) # I know there is a more elegant way to do this!\n",
    "    print_row(board[4],board[5],board[6])\n",
    "    print_row(board[7],board[8],board[9])\n",
    "    return\n",
    "\n",
    "test_board = ['#','X','O','X','O','X','O','X','O','X']\n",
    "#num_items=test_board\n",
    "print(\"num items {}\".format(len(test_board)))\n",
    "#test_board=['a','b',3,'g',999,'wer',19283,'sdf','asfd']\n",
    "\n",
    "#for item in test_board:\n",
    "#    print(\"item is {} and index is {}\".format(item,test_board.index(item)))\n",
    "\n",
    "display_board(test_board)"
   ]
  },
  {
   "cell_type": "markdown",
   "metadata": {},
   "source": [
    "**TEST Step 1:** run your function on a test version of the board list, and make adjustments as necessary"
   ]
  },
  {
   "cell_type": "code",
   "execution_count": null,
   "metadata": {},
   "outputs": [],
   "source": [
    "test_board = ['#','X',' ','X','O',' ','O','X','O','X']\n",
    "board_locations = ['#','1','2','3','4','5','6','7','8','9']\n",
    "blank_board=['#',' ',' ',' ',' ',' ',' ',' ',' ',' ']\n",
    "board=blank_board"
   ]
  },
  {
   "cell_type": "markdown",
   "metadata": {},
   "source": [
    "**Step 2: Write a function that can take in a player input and assign their marker as 'X' or 'O'. Think about using *while* loops to continually ask until you get a correct answer.**"
   ]
  },
  {
   "cell_type": "code",
   "execution_count": 54,
   "metadata": {},
   "outputs": [
    {
     "ename": "KeyboardInterrupt",
     "evalue": "Interrupted by user",
     "output_type": "error",
     "traceback": [
      "\u001b[1;31m---------------------------------------------------------------------------\u001b[0m",
      "\u001b[1;31mKeyboardInterrupt\u001b[0m                         Traceback (most recent call last)",
      "Input \u001b[1;32mIn [54]\u001b[0m, in \u001b[0;36m<cell line: 14>\u001b[1;34m()\u001b[0m\n\u001b[0;32m     11\u001b[0m         \u001b[38;5;28;01melse\u001b[39;00m:\n\u001b[0;32m     12\u001b[0m             \u001b[38;5;28mprint\u001b[39m(\u001b[38;5;124m'\u001b[39m\u001b[38;5;124mI\u001b[39m\u001b[38;5;130;01m\\'\u001b[39;00m\u001b[38;5;124mm sorry. I don\u001b[39m\u001b[38;5;130;01m\\'\u001b[39;00m\u001b[38;5;124mt understand. Please enter the letters \u001b[39m\u001b[38;5;130;01m\\'\u001b[39;00m\u001b[38;5;124mx\u001b[39m\u001b[38;5;130;01m\\'\u001b[39;00m\u001b[38;5;124m or \u001b[39m\u001b[38;5;130;01m\\'\u001b[39;00m\u001b[38;5;124mo\u001b[39m\u001b[38;5;130;01m\\'\u001b[39;00m\u001b[38;5;124m'\u001b[39m)\n\u001b[1;32m---> 14\u001b[0m \u001b[43mplayer_input\u001b[49m\u001b[43m(\u001b[49m\u001b[43m)\u001b[49m\n",
      "Input \u001b[1;32mIn [54]\u001b[0m, in \u001b[0;36mplayer_input\u001b[1;34m()\u001b[0m\n\u001b[0;32m      6\u001b[0m player1\u001b[38;5;241m=\u001b[39m\u001b[38;5;124m'\u001b[39m\u001b[38;5;124m'\u001b[39m\n\u001b[0;32m      7\u001b[0m \u001b[38;5;28;01mwhile\u001b[39;00m player1 \u001b[38;5;241m!=\u001b[39m \u001b[38;5;124m'\u001b[39m\u001b[38;5;124mX\u001b[39m\u001b[38;5;124m'\u001b[39m \u001b[38;5;129;01mor\u001b[39;00m \u001b[38;5;124m'\u001b[39m\u001b[38;5;124mO\u001b[39m\u001b[38;5;124m'\u001b[39m:\n\u001b[1;32m----> 8\u001b[0m     player1\u001b[38;5;241m=\u001b[39m\u001b[38;5;28;43minput\u001b[39;49m\u001b[43m(\u001b[49m\u001b[38;5;124;43m'\u001b[39;49m\u001b[38;5;124;43mX or O? Enter your choice: \u001b[39;49m\u001b[38;5;124;43m'\u001b[39;49m\u001b[43m)\u001b[49m\n\u001b[0;32m      9\u001b[0m     \u001b[38;5;28;01mif\u001b[39;00m player1\u001b[38;5;241m.\u001b[39mupper() \u001b[38;5;241m==\u001b[39m \u001b[38;5;124m'\u001b[39m\u001b[38;5;124mX\u001b[39m\u001b[38;5;124m'\u001b[39m \u001b[38;5;129;01mor\u001b[39;00m player1\u001b[38;5;241m.\u001b[39mupper() \u001b[38;5;241m==\u001b[39m \u001b[38;5;124m'\u001b[39m\u001b[38;5;124mO\u001b[39m\u001b[38;5;124m'\u001b[39m:\n\u001b[0;32m     10\u001b[0m         \u001b[38;5;28;01mreturn\u001b[39;00m player1\u001b[38;5;241m.\u001b[39mupper()\n",
      "File \u001b[1;32mC:\\ProgramData\\Anaconda3\\lib\\site-packages\\ipykernel\\kernelbase.py:1075\u001b[0m, in \u001b[0;36mKernel.raw_input\u001b[1;34m(self, prompt)\u001b[0m\n\u001b[0;32m   1071\u001b[0m \u001b[38;5;28;01mif\u001b[39;00m \u001b[38;5;129;01mnot\u001b[39;00m \u001b[38;5;28mself\u001b[39m\u001b[38;5;241m.\u001b[39m_allow_stdin:\n\u001b[0;32m   1072\u001b[0m     \u001b[38;5;28;01mraise\u001b[39;00m StdinNotImplementedError(\n\u001b[0;32m   1073\u001b[0m         \u001b[38;5;124m\"\u001b[39m\u001b[38;5;124mraw_input was called, but this frontend does not support input requests.\u001b[39m\u001b[38;5;124m\"\u001b[39m\n\u001b[0;32m   1074\u001b[0m     )\n\u001b[1;32m-> 1075\u001b[0m \u001b[38;5;28;01mreturn\u001b[39;00m \u001b[38;5;28;43mself\u001b[39;49m\u001b[38;5;241;43m.\u001b[39;49m\u001b[43m_input_request\u001b[49m\u001b[43m(\u001b[49m\n\u001b[0;32m   1076\u001b[0m \u001b[43m    \u001b[49m\u001b[38;5;28;43mstr\u001b[39;49m\u001b[43m(\u001b[49m\u001b[43mprompt\u001b[49m\u001b[43m)\u001b[49m\u001b[43m,\u001b[49m\n\u001b[0;32m   1077\u001b[0m \u001b[43m    \u001b[49m\u001b[38;5;28;43mself\u001b[39;49m\u001b[38;5;241;43m.\u001b[39;49m\u001b[43m_parent_ident\u001b[49m\u001b[43m[\u001b[49m\u001b[38;5;124;43m\"\u001b[39;49m\u001b[38;5;124;43mshell\u001b[39;49m\u001b[38;5;124;43m\"\u001b[39;49m\u001b[43m]\u001b[49m\u001b[43m,\u001b[49m\n\u001b[0;32m   1078\u001b[0m \u001b[43m    \u001b[49m\u001b[38;5;28;43mself\u001b[39;49m\u001b[38;5;241;43m.\u001b[39;49m\u001b[43mget_parent\u001b[49m\u001b[43m(\u001b[49m\u001b[38;5;124;43m\"\u001b[39;49m\u001b[38;5;124;43mshell\u001b[39;49m\u001b[38;5;124;43m\"\u001b[39;49m\u001b[43m)\u001b[49m\u001b[43m,\u001b[49m\n\u001b[0;32m   1079\u001b[0m \u001b[43m    \u001b[49m\u001b[43mpassword\u001b[49m\u001b[38;5;241;43m=\u001b[39;49m\u001b[38;5;28;43;01mFalse\u001b[39;49;00m\u001b[43m,\u001b[49m\n\u001b[0;32m   1080\u001b[0m \u001b[43m\u001b[49m\u001b[43m)\u001b[49m\n",
      "File \u001b[1;32mC:\\ProgramData\\Anaconda3\\lib\\site-packages\\ipykernel\\kernelbase.py:1120\u001b[0m, in \u001b[0;36mKernel._input_request\u001b[1;34m(self, prompt, ident, parent, password)\u001b[0m\n\u001b[0;32m   1117\u001b[0m             \u001b[38;5;28;01mbreak\u001b[39;00m\n\u001b[0;32m   1118\u001b[0m \u001b[38;5;28;01mexcept\u001b[39;00m \u001b[38;5;167;01mKeyboardInterrupt\u001b[39;00m:\n\u001b[0;32m   1119\u001b[0m     \u001b[38;5;66;03m# re-raise KeyboardInterrupt, to truncate traceback\u001b[39;00m\n\u001b[1;32m-> 1120\u001b[0m     \u001b[38;5;28;01mraise\u001b[39;00m \u001b[38;5;167;01mKeyboardInterrupt\u001b[39;00m(\u001b[38;5;124m\"\u001b[39m\u001b[38;5;124mInterrupted by user\u001b[39m\u001b[38;5;124m\"\u001b[39m) \u001b[38;5;28;01mfrom\u001b[39;00m \u001b[38;5;28mNone\u001b[39m\n\u001b[0;32m   1121\u001b[0m \u001b[38;5;28;01mexcept\u001b[39;00m \u001b[38;5;167;01mException\u001b[39;00m:\n\u001b[0;32m   1122\u001b[0m     \u001b[38;5;28mself\u001b[39m\u001b[38;5;241m.\u001b[39mlog\u001b[38;5;241m.\u001b[39mwarning(\u001b[38;5;124m\"\u001b[39m\u001b[38;5;124mInvalid Message:\u001b[39m\u001b[38;5;124m\"\u001b[39m, exc_info\u001b[38;5;241m=\u001b[39m\u001b[38;5;28;01mTrue\u001b[39;00m)\n",
      "\u001b[1;31mKeyboardInterrupt\u001b[0m: Interrupted by user"
     ]
    }
   ],
   "source": [
    "# take input\n",
    "# Examine input\n",
    "# if X or O (convert to uppercase), return\n",
    "# otherwise, show error message\n",
    "def player_input():\n",
    "    player1=''\n",
    "    while player1 != 'X' or 'O':\n",
    "        player1=input('X or O? Enter your choice: ')\n",
    "        if player1.upper() == 'X' or player1.upper() == 'O':\n",
    "            return player1.upper()\n",
    "        else:\n",
    "            print('I\\'m sorry. I don\\'t understand. Please enter the letters \\'x\\' or \\'o\\'')\n",
    "            \n",
    "player_input()\n",
    "    "
   ]
  },
  {
   "cell_type": "code",
   "execution_count": null,
   "metadata": {},
   "outputs": [],
   "source": [
    "def placement_input():\n",
    "    location=-1\n",
    "    print('here')\n",
    "    while location not in range(1,10):\n",
    "        display_board(board)\n",
    "        display_board(board_locations)\n",
    "        location=input('Please enter the position number for your move: ')\n",
    "        if location.isdigit() == True:\n",
    "            return int(location)\n",
    "        else:\n",
    "            print('I\\'m sorry. I don\\'t understand. Please enter a number 1-9 to indicate your position')\n",
    "            \n",
    "placement_input()"
   ]
  },
  {
   "cell_type": "markdown",
   "metadata": {},
   "source": [
    "**TEST Step 2:** run the function to make sure it returns the desired output"
   ]
  },
  {
   "cell_type": "code",
   "execution_count": null,
   "metadata": {},
   "outputs": [],
   "source": [
    "player_input()"
   ]
  },
  {
   "cell_type": "code",
   "execution_count": null,
   "metadata": {},
   "outputs": [],
   "source": [
    "display_board(board_locations)"
   ]
  },
  {
   "cell_type": "markdown",
   "metadata": {},
   "source": [
    "**Step 3: Write a function that takes in the board list object, a marker ('X' or 'O'), and a desired position (number 1-9) and assigns it to the board.**"
   ]
  },
  {
   "cell_type": "code",
   "execution_count": null,
   "metadata": {},
   "outputs": [],
   "source": [
    "test_board = ['#','X',' ','X','O',' ','O','X','O','X']\n",
    "board_locations = ['#','1','2','3','4','5','6','7','8','9']\n",
    "blank_board=['#',' ',' ',' ',' ',' ',' ',' ',' ',' ']\n",
    "board=test_board\n",
    "\n",
    "def placement_input():\n",
    "    location=-1\n",
    "    while location not in range(1,10):\n",
    "        display_board(board)\n",
    "        display_board(board_locations)\n",
    "        location=input('Please enter the position number for your move: ')\n",
    "        if location.isdigit() == True:\n",
    "            return int(location)\n",
    "        else:\n",
    "            print('I\\'m sorry. I don\\'t understand. Please enter a number 1-9 to indicate your position')\n",
    "            \n",
    "\n",
    "def player_input():\n",
    "    player1=''\n",
    "    while player1 != 'X' or 'O':\n",
    "        player1=input('X or O? Enter your playing piece: ')\n",
    "        if player1.upper() == 'X' or player1.upper() == 'O':\n",
    "            return player1.upper()\n",
    "        else:\n",
    "            print('I\\'m sorry. I don\\'t understand. Please enter the letters \\'x\\' or \\'o\\'')\n",
    "\n",
    "def print_header():\n",
    "    print(\"-------------\")\n",
    "\n",
    "def print_row(item1,item2,item3):\n",
    "    print(\"|   |   |   |\")\n",
    "    print(\"| {} | {} | {} | \".format(item1,item2,item3))\n",
    "    print(\"|   |   |   |\")\n",
    "    print(\"-------------\")\n",
    "\n",
    "\n",
    "def display_board(board):\n",
    "    print_header()\n",
    "    print_row(board[1],board[2],board[3]) # I know there is a more elegant way to do this!\n",
    "    print_row(board[4],board[5],board[6])\n",
    "    print_row(board[7],board[8],board[9])\n",
    "    return\n",
    "\n",
    "\n",
    "def place_marker(board, marker, position):\n",
    "    # requires board var to be public and checks to be done elsewhere\n",
    "    board[position]=marker\n",
    "    return \n",
    "\n",
    "\n"
   ]
  },
  {
   "cell_type": "code",
   "execution_count": null,
   "metadata": {},
   "outputs": [],
   "source": [
    "# Step 3: Write a function that takes in the board list object, a marker ('X' or 'O'), and a desired position \n",
    "# (number 1-9) and assigns it to the board.\n",
    "\n",
    "test_board = ['#','X','O','X','O','X','O','X','O','X']\n",
    "def play_move(board, position, marker):\n",
    "    board[position]=marker\n",
    "    return board\n",
    "\n",
    "board=play_move(board,2,'O')\n",
    "\n"
   ]
  },
  {
   "cell_type": "markdown",
   "metadata": {},
   "source": [
    "**TEST Step 3:** run the place marker function using test parameters and display the modified board"
   ]
  },
  {
   "cell_type": "code",
   "execution_count": null,
   "metadata": {},
   "outputs": [],
   "source": [
    "place_marker(test_board,'$',1)\n",
    "display_board(test_board)"
   ]
  },
  {
   "cell_type": "markdown",
   "metadata": {},
   "source": [
    "**Step 4: Write a function that takes in a board and a mark (X or O) and then checks to see if that mark has won. **"
   ]
  },
  {
   "cell_type": "code",
   "execution_count": null,
   "metadata": {},
   "outputs": [],
   "source": [
    "def win_check(board, mark):\n",
    "\n",
    "    return ((board[1]==mark and board[2]==mark and board[3]==mark) or\n",
    "    (board[4]==mark and board[5]==mark and board[6]==mark) or\n",
    "    (board[7]==mark and board[8]==mark and board[9]==mark) or    \n",
    "    (board[1]==mark and board[4]==mark and board[7]==mark) or    \n",
    "    (board[2]==mark and board[5]==mark and board[8]==mark) or    \n",
    "    (board[3]==mark and board[6]==mark and board[9]==mark) or    \n",
    "    (board[1]==mark and board[5]==mark and board[9]==mark) or    \n",
    "    (board[3]==mark and board[5]==mark and board[7]==mark))\n",
    "\n",
    "test_board = ['#','X','O','X','O','X','O','X','O','X']"
   ]
  },
  {
   "cell_type": "markdown",
   "metadata": {},
   "source": [
    "**TEST Step 4:** run the win_check function against our test_board - it should return True"
   ]
  },
  {
   "cell_type": "code",
   "execution_count": null,
   "metadata": {},
   "outputs": [],
   "source": [
    "win_check(test_board,'X')"
   ]
  },
  {
   "cell_type": "markdown",
   "metadata": {},
   "source": [
    "**Step 5: Write a function that uses the random module to randomly decide which player goes first. You may want to lookup random.randint() Return a string of which player went first.**"
   ]
  },
  {
   "cell_type": "code",
   "execution_count": null,
   "metadata": {},
   "outputs": [],
   "source": [
    "import random\n",
    "\n",
    "def choose_first(num_players):\n",
    "    return random.randint(1,num_players)\n",
    "\n",
    "choose_first(2)"
   ]
  },
  {
   "cell_type": "markdown",
   "metadata": {},
   "source": [
    "**Step 6: Write a function that returns a boolean indicating whether a space on the board is freely available.**"
   ]
  },
  {
   "cell_type": "code",
   "execution_count": null,
   "metadata": {},
   "outputs": [],
   "source": [
    "def space_check(board, position):\n",
    "    return board[position]==' '\n",
    "\n",
    "space_check(test_board,5)"
   ]
  },
  {
   "cell_type": "markdown",
   "metadata": {},
   "source": [
    "**Step 7: Write a function that checks if the board is full and returns a boolean value. True if full, False otherwise.**"
   ]
  },
  {
   "cell_type": "code",
   "execution_count": null,
   "metadata": {
    "scrolled": true
   },
   "outputs": [],
   "source": [
    "def full_board_check(board):\n",
    "    for i in board:\n",
    "        if i == ' ':\n",
    "            return False\n",
    "    return True\n",
    "\n",
    "full_board_check(test_board)"
   ]
  },
  {
   "cell_type": "markdown",
   "metadata": {},
   "source": [
    "**Step 8: Write a function that asks for a player's next position (as a number 1-9) and then uses the function from step 6 to check if it's a free position. If it is, then return the position for later use.**"
   ]
  },
  {
   "cell_type": "code",
   "execution_count": null,
   "metadata": {},
   "outputs": [],
   "source": [
    "def print_header():\n",
    "    print(\"-------------\")\n",
    "\n",
    "def print_row(item1,item2,item3):\n",
    "    print(\"|   |   |   |\")\n",
    "    print(\"| {} | {} | {} | \".format(item1,item2,item3))\n",
    "    print(\"|   |   |   |\")\n",
    "    print(\"-------------\")\n",
    "\n",
    "\n",
    "def display_board(board):\n",
    "    print_header()\n",
    "    print_row(board[1],board[2],board[3]) # I know there is a more elegant way to do this!\n",
    "    print_row(board[4],board[5],board[6])\n",
    "    print_row(board[7],board[8],board[9])\n",
    "    return\n"
   ]
  },
  {
   "cell_type": "code",
   "execution_count": null,
   "metadata": {},
   "outputs": [],
   "source": [
    "test_board = ['#','X','O','X','O','X','O','X','O','X']\n",
    "def player_choice(board):\n",
    "    board_locations = ['#','1','2','3','4','5','6','7','8','9']\n",
    "    loc=''\n",
    "    loop=False\n",
    "    print('Here are the positions of the board')\n",
    "    display_board(board_locations)\n",
    "    print('here is the current state of the board')\n",
    "    display_board(board)\n",
    "    loc=input('Please enter the position number for your move: ')\n",
    "    \n",
    "    while loc not in range(1,10):\n",
    "        if loc.isdigit() == True:\n",
    "            loc=int(loc)\n",
    "            if space_check(board,loc) == True:\n",
    "                return loc\n",
    "            else:\n",
    "                loc = input('I\\'m sorry. That space isn\\'t available. Please select an open space: ')\n",
    "                continue\n",
    "        else:\n",
    "            loc=('I\\'m sorry. I don\\'t understand. Please enter a number 1-9 to indicate your position')\n",
    "            continue\n",
    "               \n",
    "        \n",
    "    "
   ]
  },
  {
   "cell_type": "markdown",
   "metadata": {},
   "source": [
    "**Step 9: Write a function that asks the player if they want to play again and returns a boolean True if they do want to play again.**"
   ]
  },
  {
   "cell_type": "code",
   "execution_count": null,
   "metadata": {},
   "outputs": [],
   "source": [
    "def replay():\n",
    "    \n",
    "    pass"
   ]
  },
  {
   "cell_type": "markdown",
   "metadata": {
    "collapsed": true
   },
   "source": [
    "**Step 10: Here comes the hard part! Use while loops and the functions you've made to run the game!**"
   ]
  },
  {
   "cell_type": "code",
   "execution_count": 26,
   "metadata": {},
   "outputs": [],
   "source": [
    "test_board = ['#','X',' ','X','O',' ','O','X','O','X']\n",
    "board_locations = ['#','1','2','3','4','5','6','7','8','9']\n",
    "\n",
    "\n",
    "\n",
    "def player_name(order):\n",
    "    player=''\n",
    "    while player == '':\n",
    "        player=input('Please enter your name, Player {}: '.format(order))\n",
    "        if player=='':\n",
    "            print('I\\'m sorry. I don\\'t understand. Please enter your name: ')\n",
    "        else:\n",
    "            return player\n",
    "################\n",
    "import random\n",
    "\n",
    "def choose_first(num_players):\n",
    "    return random.randint(1,num_players)\n",
    "\n",
    "##############\n",
    "\n",
    "def player_input(player):\n",
    "    player['marker']=''\n",
    "    while player['marker'] != 'X' or 'O':\n",
    "        player['marker']=input('X or O, {}? Enter your choice: '.format(player['name']))\n",
    "        if player['marker'].upper() == 'X' or player['marker'].upper() == 'O':\n",
    "            return player['marker'].upper()\n",
    "        else:\n",
    "            print('I\\'m sorry. I don\\'t understand. Please enter the letters \\'x\\' or \\'o\\'')\n",
    "            \n",
    "##############\n",
    "\n",
    "def print_header():\n",
    "    print(\"-------------\")\n",
    "\n",
    "def print_row(item1,item2,item3):\n",
    "    print(\"|   |   |   |\")\n",
    "    print(\"| {} | {} | {} | \".format(item1,item2,item3))\n",
    "    print(\"|   |   |   |\")\n",
    "    print(\"-------------\")\n",
    "\n",
    "\n",
    "def display_board(board):\n",
    "    print_header()\n",
    "    print_row(board[1],board[2],board[3]) # I know there is a more elegant way to do this!\n",
    "    print_row(board[4],board[5],board[6])\n",
    "    print_row(board[7],board[8],board[9])\n",
    "    return\n",
    "\n",
    "###############\n",
    "def space_check(board, position):\n",
    "    return board[position]==' '\n",
    "\n",
    "#############\n",
    "def get_placement_input(board, player):\n",
    "    loop = True\n",
    "    position = input('{}, Choose the location of your next play: (1-9) '.format(player['name']))\n",
    "    msg=''\n",
    "    \n",
    "    while loop:\n",
    "        if position.isdigit() == True:\n",
    "            position=int(position)\n",
    "            if position in range(1,10):\n",
    "                if space_check(board, position):\n",
    "                    return(position)\n",
    "                else: \n",
    "                    msg='I\\'m sorry, {}. Position is {} not available. Choose another. '.format(player['name'],position)\n",
    "            else:\n",
    "                msg='{}, Must enter 1-9: '.format(player['name'])\n",
    "        else:\n",
    "            msg='{} Entry must be a number 1-9: '.format(player['name'])\n",
    " \n",
    "        position=input(msg)\n",
    "        continue\n",
    "\n",
    "###############\n",
    "\n",
    "def win_check(board, mark):\n",
    "\n",
    "    return ((board[1]==mark and board[2]==mark and board[3]==mark) or\n",
    "    (board[4]==mark and board[5]==mark and board[6]==mark) or\n",
    "    (board[7]==mark and board[8]==mark and board[9]==mark) or    \n",
    "    (board[1]==mark and board[4]==mark and board[7]==mark) or    \n",
    "    (board[2]==mark and board[5]==mark and board[8]==mark) or    \n",
    "    (board[3]==mark and board[6]==mark and board[9]==mark) or    \n",
    "    (board[1]==mark and board[5]==mark and board[9]==mark) or    \n",
    "    (board[3]==mark and board[5]==mark and board[7]==mark))\n",
    "\n",
    "def turn(board, player):\n",
    "    # clear screen\n",
    "    from IPython.display import clear_output\n",
    "    clear_output()\n",
    "    # show positions\n",
    "    print('Here are the board positions')\n",
    "    display_board(board_locations)\n",
    "    # show board\n",
    "    print('It is {}\\'s turn, playing {}'.format(player['name'],player['marker']))\n",
    "    display_board(board)    \n",
    "    play_position=get_placement_input(board, player)\n",
    "    board[play_position]=player['marker']\n",
    "\n",
    "def new_game():\n",
    "    print('Welcome to Tic Tac Toe!')\n",
    "    player1={}\n",
    "    player2={}\n",
    "    temp_player={}\n",
    "    # Get names\n",
    "    player1['name']=player_name('One')\n",
    "    player2['name']=player_name('Two')\n",
    "    if player1['name']==player2['name']:\n",
    "        player2['name'] = player2['name'] + '2'\n",
    "    print('Welcome to the game {} and {}'.format(player1['name'],player2['name']))\n",
    "    # Randomize who goes first\n",
    "    order=choose_first(2)\n",
    "    if debug:\n",
    "        print('the order was {}'.format(order))\n",
    "    if order==2:\n",
    "        player1, player2 =player2, player1\n",
    "\n",
    "    print('Based on a random draw, {} will go first and {} will go second'.format(player1['name'],player2['name']))\n",
    "\n",
    "    # Ask if they want X or O\n",
    "    player1['marker']=player_input(player1)\n",
    "    if player1['marker'] == 'X':\n",
    "        player2['marker']='O'\n",
    "    else:\n",
    "        player2['marker']='X'\n",
    "\n",
    "    if debug:\n",
    "        print('player one = {}'.format(player1))\n",
    "        print('player two = {}'.format(player2))\n",
    "\n",
    "    return player1, player2\n",
    "\n",
    "def full_board_check(board):\n",
    "    for i in board:\n",
    "        if i == ' ':\n",
    "            return False\n",
    "    return True\n",
    "\n"
   ]
  },
  {
   "cell_type": "code",
   "execution_count": null,
   "metadata": {},
   "outputs": [
    {
     "name": "stdout",
     "output_type": "stream",
     "text": [
      "Welcome to Tic Tac Toe!\n"
     ]
    }
   ],
   "source": [
    "debug=False\n",
    "play_game = 'yes'\n",
    "board=[]\n",
    "\n",
    "while play_game != '':\n",
    "\n",
    "    player1, player2 = new_game()\n",
    "    board=['#',' ',' ',' ',' ',' ',' ',' ',' ',' ']\n",
    "    game_over=False\n",
    "    \n",
    "    if debug:\n",
    "        print('Player 1 is {}'.format(player1['name']))\n",
    "        print('Player 2 is {}'.format(player2['name']))\n",
    "    \n",
    "    while game_over==False:\n",
    "        turn(board,player1)\n",
    "        # determine win\n",
    "        if win_check(board, player1['marker']):\n",
    "            print('{} WINS!!!!'.format(player1['name']))\n",
    "            game_over=True\n",
    "            break\n",
    "        if full_board_check(board):\n",
    "            print('Sorry -- tie game.')\n",
    "            game_over=True\n",
    "            break\n",
    "        turn(board,player2)\n",
    "        # determine win\n",
    "        if win_check(board, player2['marker']):\n",
    "            game_over=True\n",
    "            print('{} WINS!!!!'.format(player2['name']))\n",
    "            break\n",
    "        if full_board_check(board):\n",
    "            game_over=True\n",
    "            print('Sorry -- tie game.')\n",
    "            break\n",
    "    if game_over==True:\n",
    "        play_game=input('Would you like to play another game? Enter any key for Yes, or Return for No: ')\n",
    "    \n",
    "print('Thank you for playing!')"
   ]
  },
  {
   "cell_type": "markdown",
   "metadata": {
    "collapsed": true
   },
   "source": [
    "## Good Job!"
   ]
  }
 ],
 "metadata": {
  "kernelspec": {
   "display_name": "Python 3 (ipykernel)",
   "language": "python",
   "name": "python3"
  },
  "language_info": {
   "codemirror_mode": {
    "name": "ipython",
    "version": 3
   },
   "file_extension": ".py",
   "mimetype": "text/x-python",
   "name": "python",
   "nbconvert_exporter": "python",
   "pygments_lexer": "ipython3",
   "version": "3.9.12"
  }
 },
 "nbformat": 4,
 "nbformat_minor": 1
}
