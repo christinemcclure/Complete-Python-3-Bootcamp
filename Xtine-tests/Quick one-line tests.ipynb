{
 "cells": [
  {
   "cell_type": "code",
   "execution_count": 5,
   "id": "21ce81d0",
   "metadata": {},
   "outputs": [
    {
     "name": "stdout",
     "output_type": "stream",
     "text": [
      "not even\n"
     ]
    }
   ],
   "source": [
    "if 11%2 == 0:\n",
    "    print(\"even\")\n",
    "else:\n",
    "    print(\"not even\")"
   ]
  },
  {
   "cell_type": "code",
   "execution_count": 39,
   "id": "0729a474",
   "metadata": {},
   "outputs": [
    {
     "name": "stdout",
     "output_type": "stream",
     "text": [
      "i is currently A and startCap is 1\n",
      "a\n",
      "i is currently n and startCap is 2\n",
      "aN\n",
      "i is currently t and startCap is 3\n",
      "t\n",
      "i is currently h and startCap is 4\n",
      "aNtH\n",
      "i is currently r and startCap is 5\n",
      "r\n",
      "i is currently o and startCap is 6\n",
      "aNtHrO\n",
      "i is currently p and startCap is 7\n",
      "p\n",
      "i is currently o and startCap is 8\n",
      "aNtHrOpO\n",
      "i is currently m and startCap is 9\n",
      "m\n",
      "i is currently o and startCap is 10\n",
      "aNtHrOpOmO\n",
      "i is currently r and startCap is 11\n",
      "r\n",
      "i is currently p and startCap is 12\n",
      "aNtHrOpOmOrP\n",
      "i is currently h and startCap is 13\n",
      "h\n",
      "i is currently i and startCap is 14\n",
      "aNtHrOpOmOrPhI\n",
      "i is currently s and startCap is 15\n",
      "s\n",
      "i is currently m and startCap is 16\n",
      "aNtHrOpOmOrPhIsM\n"
     ]
    },
    {
     "data": {
      "text/plain": [
       "'aNtHrOpOmOrPhIsM'"
      ]
     },
     "execution_count": 39,
     "metadata": {},
     "output_type": "execute_result"
    }
   ],
   "source": [
    "def myfunc(myStr):\n",
    "    retStr=''\n",
    "    startCap=''\n",
    "    if len(myStr)%2 == 0:\n",
    "        startCap=1\n",
    "    else:\n",
    "        startCap=0\n",
    "    \n",
    "    for i in myStr:\n",
    "        if startCap % 2 == 0:\n",
    "            retStr = retStr + i.upper()\n",
    "        else:\n",
    "            retStr = retStr + i.lower()\n",
    "        startCap += 1    \n",
    "    \n",
    "    return retStr\n",
    "            \n",
    "        \n",
    "    \n",
    "\n",
    "myfunc('Anthropomorphism')\n",
    "\n",
    "#myfunc('anthropomorphism')"
   ]
  }
 ],
 "metadata": {
  "kernelspec": {
   "display_name": "Python 3 (ipykernel)",
   "language": "python",
   "name": "python3"
  },
  "language_info": {
   "codemirror_mode": {
    "name": "ipython",
    "version": 3
   },
   "file_extension": ".py",
   "mimetype": "text/x-python",
   "name": "python",
   "nbconvert_exporter": "python",
   "pygments_lexer": "ipython3",
   "version": "3.9.12"
  }
 },
 "nbformat": 4,
 "nbformat_minor": 5
}
